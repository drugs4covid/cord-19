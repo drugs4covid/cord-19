{
 "cells": [
  {
   "cell_type": "code",
   "execution_count": 1,
   "id": "5f421842-9797-456e-9fd7-da74df58bf39",
   "metadata": {},
   "outputs": [],
   "source": [
    "import pysolr\n",
    "import time\n",
    "import json"
   ]
  },
  {
   "cell_type": "markdown",
   "id": "5b19378b-a64e-46f4-8529-6ef890e5f537",
   "metadata": {},
   "source": [
    "# Drug loading in Solr"
   ]
  },
  {
   "cell_type": "code",
   "execution_count": 12,
   "id": "3cb491e8-9634-4968-b2cd-b2df26648625",
   "metadata": {},
   "outputs": [
    {
     "name": "stdout",
     "output_type": "stream",
     "text": [
      "{\n",
      "  \"responseHeader\":{\n",
      "    \"zkConnected\":null,\n",
      "    \"status\":0,\n",
      "    \"QTime\":1,\n",
      "    \"params\":{\n",
      "      \"q\":\"{!lucene}*:*\",\n",
      "      \"distrib\":\"false\",\n",
      "      \"df\":\"_text_\",\n",
      "      \"rows\":\"10\",\n",
      "      \"echoParams\":\"all\"}},\n",
      "  \"status\":\"OK\"}\n",
      "\n"
     ]
    }
   ],
   "source": [
    "solr = pysolr.Solr('https://librairy.linkeddata.es/solr/drugs', timeout=50)\n",
    "print(solr.ping())"
   ]
  },
  {
   "cell_type": "code",
   "execution_count": 13,
   "id": "2b30020b-3fb3-4013-ba99-f48fe76b3e6d",
   "metadata": {},
   "outputs": [
    {
     "name": "stdout",
     "output_type": "stream",
     "text": [
      "344238\n"
     ]
    }
   ],
   "source": [
    "with open('data/Chemical/drugs.json', 'r') as fout:\n",
    "    drugs = json.loads(fout.read())\n",
    "    print(len(drugs))"
   ]
  },
  {
   "cell_type": "code",
   "execution_count": 14,
   "id": "5555171a-bcad-49b7-a0cf-8e3f8d935a28",
   "metadata": {
    "scrolled": true,
    "tags": []
   },
   "outputs": [
    {
     "name": "stdout",
     "output_type": "stream",
     "text": [
      "<?xml version=\"1.0\" encoding=\"UTF-8\"?>\n",
      "<response>\n",
      "\n",
      "<lst name=\"responseHeader\">\n",
      "  <int name=\"status\">0</int>\n",
      "  <int name=\"QTime\">2996</int>\n",
      "</lst>\n",
      "</response>\n",
      "\n",
      "50000 files added\n",
      "-----------------\n",
      "<?xml version=\"1.0\" encoding=\"UTF-8\"?>\n",
      "<response>\n",
      "\n",
      "<lst name=\"responseHeader\">\n",
      "  <int name=\"status\">0</int>\n",
      "  <int name=\"QTime\">4944</int>\n",
      "</lst>\n",
      "</response>\n",
      "\n",
      "100000 files added\n",
      "-----------------\n",
      "<?xml version=\"1.0\" encoding=\"UTF-8\"?>\n",
      "<response>\n",
      "\n",
      "<lst name=\"responseHeader\">\n",
      "  <int name=\"status\">0</int>\n",
      "  <int name=\"QTime\">2881</int>\n",
      "</lst>\n",
      "</response>\n",
      "\n",
      "150000 files added\n",
      "-----------------\n",
      "<?xml version=\"1.0\" encoding=\"UTF-8\"?>\n",
      "<response>\n",
      "\n",
      "<lst name=\"responseHeader\">\n",
      "  <int name=\"status\">0</int>\n",
      "  <int name=\"QTime\">4243</int>\n",
      "</lst>\n",
      "</response>\n",
      "\n",
      "200000 files added\n",
      "-----------------\n",
      "<?xml version=\"1.0\" encoding=\"UTF-8\"?>\n",
      "<response>\n",
      "\n",
      "<lst name=\"responseHeader\">\n",
      "  <int name=\"status\">0</int>\n",
      "  <int name=\"QTime\">2569</int>\n",
      "</lst>\n",
      "</response>\n",
      "\n",
      "250000 files added\n",
      "-----------------\n",
      "<?xml version=\"1.0\" encoding=\"UTF-8\"?>\n",
      "<response>\n",
      "\n",
      "<lst name=\"responseHeader\">\n",
      "  <int name=\"status\">0</int>\n",
      "  <int name=\"QTime\">1342</int>\n",
      "</lst>\n",
      "</response>\n",
      "\n",
      "300000 files added\n",
      "-----------------\n",
      "<?xml version=\"1.0\" encoding=\"UTF-8\"?>\n",
      "<response>\n",
      "\n",
      "<lst name=\"responseHeader\">\n",
      "  <int name=\"status\">0</int>\n",
      "  <int name=\"QTime\">1745</int>\n",
      "</lst>\n",
      "</response>\n",
      "\n",
      "350000 files added\n",
      "-----------------\n",
      "<?xml version=\"1.0\" encoding=\"UTF-8\"?>\n",
      "<response>\n",
      "\n",
      "<lst name=\"responseHeader\">\n",
      "  <int name=\"status\">0</int>\n",
      "  <int name=\"QTime\">4</int>\n",
      "</lst>\n",
      "</response>\n",
      "\n",
      "400000 files added\n",
      "-----------------\n",
      "<?xml version=\"1.0\" encoding=\"UTF-8\"?>\n",
      "<response>\n",
      "\n",
      "<lst name=\"responseHeader\">\n",
      "  <int name=\"status\">0</int>\n",
      "  <int name=\"QTime\">1</int>\n",
      "</lst>\n",
      "</response>\n",
      "\n",
      "344238 files added\n",
      "-----------------\n"
     ]
    }
   ],
   "source": [
    "solr.add(drugs[0:50000])\n",
    "print(solr.commit())\n",
    "print('50000 files added')\n",
    "print('-----------------')\n",
    "time.sleep(1)\n",
    "solr.add(drugs[50000:100000])\n",
    "print(solr.commit())\n",
    "print('100000 files added')\n",
    "print('-----------------')\n",
    "time.sleep(1)\n",
    "solr.add(drugs[100000:150000])\n",
    "print(solr.commit())\n",
    "print('150000 files added')\n",
    "print('-----------------')\n",
    "time.sleep(1)\n",
    "solr.add(drugs[150000:200000])\n",
    "print(solr.commit())\n",
    "print('200000 files added')\n",
    "print('-----------------')\n",
    "time.sleep(1)\n",
    "solr.add(drugs[200000:250000])\n",
    "print(solr.commit())\n",
    "print('250000 files added')\n",
    "print('-----------------')\n",
    "time.sleep(1)\n",
    "solr.add(drugs[250000:300000])\n",
    "print(solr.commit())\n",
    "print('300000 files added')\n",
    "print('-----------------')\n",
    "time.sleep(1)\n",
    "solr.add(drugs[300000:350000])\n",
    "print(solr.commit())\n",
    "print('350000 files added')\n",
    "print('-----------------')\n",
    "time.sleep(1)\n",
    "solr.add(drugs[350000:400000])\n",
    "print(solr.commit())\n",
    "print('400000 files added')\n",
    "print('-----------------')\n",
    "time.sleep(1)\n",
    "solr.add(drugs[400000:])\n",
    "print(solr.commit())\n",
    "print(str(len(drugs)) + ' files added')\n",
    "print('-----------------')"
   ]
  },
  {
   "cell_type": "markdown",
   "id": "16aeb70c-2b3d-421e-95d7-fc619eddb1ef",
   "metadata": {},
   "source": [
    "# Diseases loading in Solr"
   ]
  },
  {
   "cell_type": "code",
   "execution_count": 2,
   "id": "912b1d7e-944a-472f-ab04-b8e55b3af45b",
   "metadata": {},
   "outputs": [
    {
     "name": "stdout",
     "output_type": "stream",
     "text": [
      "{\n",
      "  \"responseHeader\":{\n",
      "    \"zkConnected\":null,\n",
      "    \"status\":0,\n",
      "    \"QTime\":0,\n",
      "    \"params\":{\n",
      "      \"q\":\"{!lucene}*:*\",\n",
      "      \"distrib\":\"false\",\n",
      "      \"df\":\"_text_\",\n",
      "      \"rows\":\"10\",\n",
      "      \"echoParams\":\"all\"}},\n",
      "  \"status\":\"OK\"}\n",
      "\n"
     ]
    }
   ],
   "source": [
    "solr = pysolr.Solr('https://librairy.linkeddata.es/solr/diseases', timeout=50)\n",
    "print(solr.ping())"
   ]
  },
  {
   "cell_type": "code",
   "execution_count": 3,
   "id": "2103b557-3608-42ca-a2d7-fce9bc6be845",
   "metadata": {},
   "outputs": [
    {
     "name": "stdout",
     "output_type": "stream",
     "text": [
      "126573\n"
     ]
    }
   ],
   "source": [
    "with open('data/Disease/diseases.json', 'r') as fout:\n",
    "    diseases = json.loads(fout.read())\n",
    "    print(len(diseases))"
   ]
  },
  {
   "cell_type": "code",
   "execution_count": 4,
   "id": "60977d55-0119-4d9c-a4be-e6557477dab5",
   "metadata": {},
   "outputs": [
    {
     "name": "stdout",
     "output_type": "stream",
     "text": [
      "<?xml version=\"1.0\" encoding=\"UTF-8\"?>\n",
      "<response>\n",
      "\n",
      "<lst name=\"responseHeader\">\n",
      "  <int name=\"status\">0</int>\n",
      "  <int name=\"QTime\">937</int>\n",
      "</lst>\n",
      "</response>\n",
      "\n",
      "126573 files added\n"
     ]
    }
   ],
   "source": [
    "solr.add(diseases)\n",
    "print(solr.commit())\n",
    "print(len(diseases),'files added')"
   ]
  },
  {
   "cell_type": "markdown",
   "id": "247ea671-bd5c-42f7-a9b9-31f78d5bca55",
   "metadata": {},
   "source": [
    "# Gene loading in Solr"
   ]
  },
  {
   "cell_type": "code",
   "execution_count": 15,
   "id": "5949c957-6f22-4bbc-adbd-ae619ab334bf",
   "metadata": {},
   "outputs": [
    {
     "name": "stdout",
     "output_type": "stream",
     "text": [
      "{\n",
      "  \"responseHeader\":{\n",
      "    \"zkConnected\":null,\n",
      "    \"status\":0,\n",
      "    \"QTime\":5,\n",
      "    \"params\":{\n",
      "      \"q\":\"{!lucene}*:*\",\n",
      "      \"distrib\":\"false\",\n",
      "      \"df\":\"_text_\",\n",
      "      \"rows\":\"10\",\n",
      "      \"echoParams\":\"all\"}},\n",
      "  \"status\":\"OK\"}\n",
      "\n"
     ]
    }
   ],
   "source": [
    "solr = pysolr.Solr('https://librairy.linkeddata.es/solr/genetic', timeout=50)\n",
    "print(solr.ping())"
   ]
  },
  {
   "cell_type": "code",
   "execution_count": 16,
   "id": "6178d423-7c40-4977-87a5-f2463cc0234e",
   "metadata": {},
   "outputs": [
    {
     "name": "stdout",
     "output_type": "stream",
     "text": [
      "946584\n"
     ]
    }
   ],
   "source": [
    "with open('data/Genetic/genetic.json', 'r') as fout:\n",
    "    genetic = json.loads(fout.read())\n",
    "    print(len(genetic))"
   ]
  },
  {
   "cell_type": "code",
   "execution_count": 17,
   "id": "57e65cd4-e819-4f3b-94f2-91b7249b5924",
   "metadata": {
    "scrolled": true,
    "tags": []
   },
   "outputs": [
    {
     "name": "stdout",
     "output_type": "stream",
     "text": [
      "<?xml version=\"1.0\" encoding=\"UTF-8\"?>\n",
      "<response>\n",
      "\n",
      "<lst name=\"responseHeader\">\n",
      "  <int name=\"status\">0</int>\n",
      "  <int name=\"QTime\">1040</int>\n",
      "</lst>\n",
      "</response>\n",
      "\n",
      "100000 files added\n",
      "-----------------\n",
      "<?xml version=\"1.0\" encoding=\"UTF-8\"?>\n",
      "<response>\n",
      "\n",
      "<lst name=\"responseHeader\">\n",
      "  <int name=\"status\">0</int>\n",
      "  <int name=\"QTime\">1090</int>\n",
      "</lst>\n",
      "</response>\n",
      "\n",
      "200000 files added\n",
      "-----------------\n",
      "<?xml version=\"1.0\" encoding=\"UTF-8\"?>\n",
      "<response>\n",
      "\n",
      "<lst name=\"responseHeader\">\n",
      "  <int name=\"status\">0</int>\n",
      "  <int name=\"QTime\">997</int>\n",
      "</lst>\n",
      "</response>\n",
      "\n",
      "300000 files added\n",
      "-----------------\n",
      "<?xml version=\"1.0\" encoding=\"UTF-8\"?>\n",
      "<response>\n",
      "\n",
      "<lst name=\"responseHeader\">\n",
      "  <int name=\"status\">0</int>\n",
      "  <int name=\"QTime\">1366</int>\n",
      "</lst>\n",
      "</response>\n",
      "\n",
      "400000 files added\n",
      "-----------------\n",
      "<?xml version=\"1.0\" encoding=\"UTF-8\"?>\n",
      "<response>\n",
      "\n",
      "<lst name=\"responseHeader\">\n",
      "  <int name=\"status\">0</int>\n",
      "  <int name=\"QTime\">3371</int>\n",
      "</lst>\n",
      "</response>\n",
      "\n",
      "500000 files added\n",
      "-----------------\n",
      "<?xml version=\"1.0\" encoding=\"UTF-8\"?>\n",
      "<response>\n",
      "\n",
      "<lst name=\"responseHeader\">\n",
      "  <int name=\"status\">0</int>\n",
      "  <int name=\"QTime\">1057</int>\n",
      "</lst>\n",
      "</response>\n",
      "\n",
      "600000 files added\n",
      "-----------------\n",
      "<?xml version=\"1.0\" encoding=\"UTF-8\"?>\n",
      "<response>\n",
      "\n",
      "<lst name=\"responseHeader\">\n",
      "  <int name=\"status\">0</int>\n",
      "  <int name=\"QTime\">802</int>\n",
      "</lst>\n",
      "</response>\n",
      "\n",
      "700000 files added\n",
      "-----------------\n",
      "<?xml version=\"1.0\" encoding=\"UTF-8\"?>\n",
      "<response>\n",
      "\n",
      "<lst name=\"responseHeader\">\n",
      "  <int name=\"status\">0</int>\n",
      "  <int name=\"QTime\">840</int>\n",
      "</lst>\n",
      "</response>\n",
      "\n",
      "800000 files added\n",
      "-----------------\n",
      "<?xml version=\"1.0\" encoding=\"UTF-8\"?>\n",
      "<response>\n",
      "\n",
      "<lst name=\"responseHeader\">\n",
      "  <int name=\"status\">0</int>\n",
      "  <int name=\"QTime\">1433</int>\n",
      "</lst>\n",
      "</response>\n",
      "\n",
      "946584 files added\n",
      "-----------------\n"
     ]
    }
   ],
   "source": [
    "solr.add(genetic[0:100000])\n",
    "print(solr.commit())\n",
    "print('100000 files added')\n",
    "print('-----------------')\n",
    "time.sleep(1)\n",
    "solr.add(genetic[100000:200000])\n",
    "print(solr.commit())\n",
    "print('200000 files added')\n",
    "print('-----------------')\n",
    "time.sleep(1)\n",
    "solr.add(genetic[200000:300000])\n",
    "print(solr.commit())\n",
    "print('300000 files added')\n",
    "print('-----------------')\n",
    "time.sleep(1)\n",
    "solr.add(genetic[300000:400000])\n",
    "print(solr.commit())\n",
    "print('400000 files added')\n",
    "print('-----------------')\n",
    "time.sleep(1)\n",
    "solr.add(genetic[400000:500000])\n",
    "print(solr.commit())\n",
    "print('500000 files added')\n",
    "print('-----------------')\n",
    "time.sleep(1)\n",
    "solr.add(genetic[500000:600000])\n",
    "print(solr.commit())\n",
    "print('600000 files added')\n",
    "print('-----------------')\n",
    "time.sleep(1)\n",
    "solr.add(genetic[600000:700000])\n",
    "print(solr.commit())\n",
    "print('700000 files added')\n",
    "print('-----------------')\n",
    "time.sleep(1)\n",
    "solr.add(genetic[700000:800000])\n",
    "print(solr.commit())\n",
    "print('800000 files added')\n",
    "print('-----------------')\n",
    "time.sleep(1)\n",
    "solr.add(genetic[800000:])\n",
    "print(solr.commit())\n",
    "print(str(len(genetic)) + ' files added')\n",
    "print('-----------------')"
   ]
  },
  {
   "cell_type": "markdown",
   "id": "e959296d-ce38-4b5b-9e91-55638b7c4074",
   "metadata": {},
   "source": [
    "# COVID loading in Solr"
   ]
  },
  {
   "cell_type": "code",
   "execution_count": 11,
   "id": "c3468c2f-efb1-4f1a-aeed-411d88f62c59",
   "metadata": {},
   "outputs": [
    {
     "name": "stdout",
     "output_type": "stream",
     "text": [
      "{\n",
      "  \"responseHeader\":{\n",
      "    \"zkConnected\":null,\n",
      "    \"status\":0,\n",
      "    \"QTime\":0,\n",
      "    \"params\":{\n",
      "      \"q\":\"{!lucene}*:*\",\n",
      "      \"distrib\":\"false\",\n",
      "      \"df\":\"_text_\",\n",
      "      \"rows\":\"10\",\n",
      "      \"echoParams\":\"all\",\n",
      "      \"rid\":\"-3\"}},\n",
      "  \"status\":\"OK\"}\n",
      "\n"
     ]
    }
   ],
   "source": [
    "solr = pysolr.Solr('http://localhost:8983/solr/covid', timeout=20)\n",
    "print(solr.ping())"
   ]
  },
  {
   "cell_type": "code",
   "execution_count": 12,
   "id": "7e9842c0-b8a5-496b-b129-6a34a651ddf7",
   "metadata": {},
   "outputs": [
    {
     "name": "stdout",
     "output_type": "stream",
     "text": [
      "1404\n"
     ]
    }
   ],
   "source": [
    "with open('data/COVID/covid.json', 'r') as fout:\n",
    "    covid = json.loads(fout.read())\n",
    "    print(len(covid))"
   ]
  },
  {
   "cell_type": "code",
   "execution_count": 13,
   "id": "f4cd786d-e255-4db3-8ced-ce06cd5ae50d",
   "metadata": {},
   "outputs": [
    {
     "name": "stdout",
     "output_type": "stream",
     "text": [
      "<?xml version=\"1.0\" encoding=\"UTF-8\"?>\n",
      "<response>\n",
      "\n",
      "<lst name=\"responseHeader\">\n",
      "  <int name=\"status\">0</int>\n",
      "  <int name=\"QTime\">213</int>\n",
      "</lst>\n",
      "</response>\n",
      "\n",
      "1404 files added\n"
     ]
    }
   ],
   "source": [
    "solr.add(covid)\n",
    "print(solr.commit())\n",
    "print(len(covid),'files added')"
   ]
  },
  {
   "cell_type": "code",
   "execution_count": null,
   "id": "4660d553-599d-466b-a506-a0f5b69b0dbf",
   "metadata": {},
   "outputs": [],
   "source": []
  },
  {
   "cell_type": "code",
   "execution_count": null,
   "id": "d4ff4991-7850-446d-a27b-da54d814f83d",
   "metadata": {},
   "outputs": [],
   "source": []
  },
  {
   "cell_type": "code",
   "execution_count": 41,
   "id": "aaf3817b-f5ad-43fb-a13e-903913647753",
   "metadata": {},
   "outputs": [],
   "source": [
    "label = 'SARS (CoV) 2'"
   ]
  },
  {
   "cell_type": "code",
   "execution_count": 42,
   "id": "a1609081-e3d5-422a-9b46-1b6085c409c0",
   "metadata": {},
   "outputs": [],
   "source": [
    "label = label.replace('(','').replace(')','')"
   ]
  },
  {
   "cell_type": "code",
   "execution_count": 43,
   "id": "6012a12b-15a7-452c-820f-8b214e75f558",
   "metadata": {},
   "outputs": [],
   "source": [
    "results = solr.search('term:'+ label +'^10' + 'or synonyms:' + label+'^100',**{'fl':'*,score'})"
   ]
  },
  {
   "cell_type": "code",
   "execution_count": 44,
   "id": "0d715d4f-3907-4a54-afd0-77ed5fb167c1",
   "metadata": {},
   "outputs": [
    {
     "name": "stdout",
     "output_type": "stream",
     "text": [
      "Saw 9 result(s).\n"
     ]
    }
   ],
   "source": [
    "print(\"Saw {0} result(s).\".format(len(results)))"
   ]
  },
  {
   "cell_type": "code",
   "execution_count": 45,
   "id": "53786fab-0f75-40e9-8a37-8d858d1e68b1",
   "metadata": {},
   "outputs": [
    {
     "name": "stdout",
     "output_type": "stream",
     "text": [
      "The title is '['Severe Acute Respiratory Syndrome']'.\n",
      "The score is '5.7051315'.\n",
      "-------------------------------------------\n",
      "The title is '['Pneumonia due to SARS-associated coronavirus']'.\n",
      "The score is '5.522484'.\n",
      "-------------------------------------------\n",
      "The title is '['Severe acute respiratory syndrome coronavirus 2']'.\n",
      "The score is '4.7156754'.\n",
      "-------------------------------------------\n",
      "The title is '['SARS-associated coronavirus as the cause of diseases classified elsewhere']'.\n",
      "The score is '4.5087924'.\n",
      "-------------------------------------------\n",
      "The title is '['COVID-19']'.\n",
      "The score is '3.4565802'.\n",
      "-------------------------------------------\n",
      "The title is '['X-Linked immunodeficiency 74']'.\n",
      "The score is '3.4000034'.\n",
      "-------------------------------------------\n",
      "The title is '['COVID-19 serotherapy']'.\n",
      "The score is '3.1816745'.\n",
      "-------------------------------------------\n",
      "The title is '['post-acute COVID-19 syndrome']'.\n",
      "The score is '2.5905976'.\n",
      "-------------------------------------------\n",
      "The title is '['pediatric multisystem inflammatory disease, COVID-19 related']'.\n",
      "The score is '1.9648414'.\n",
      "-------------------------------------------\n"
     ]
    }
   ],
   "source": [
    "for result in results:\n",
    "    print(\"The title is '{0}'.\".format(result['term']))\n",
    "    print(\"The score is '{0}'.\".format(result['score']))\n",
    "    print(\"-------------------------------------------\")"
   ]
  },
  {
   "cell_type": "code",
   "execution_count": 59,
   "id": "b0ddf7ee-4757-4349-9029-6f2bc9bcb694",
   "metadata": {},
   "outputs": [
    {
     "data": {
      "text/plain": [
       "1.5773218"
      ]
     },
     "execution_count": 59,
     "metadata": {},
     "output_type": "execute_result"
    }
   ],
   "source": [
    "result['score']"
   ]
  },
  {
   "cell_type": "code",
   "execution_count": null,
   "id": "e415dc49-98d1-463a-9c5e-361147bb91db",
   "metadata": {},
   "outputs": [],
   "source": []
  },
  {
   "cell_type": "code",
   "execution_count": null,
   "id": "a621088e-4d8f-4cf4-80a3-0085dbe4d870",
   "metadata": {},
   "outputs": [],
   "source": []
  }
 ],
 "metadata": {
  "kernelspec": {
   "display_name": "Python 3 (ipykernel)",
   "language": "python",
   "name": "python3"
  },
  "language_info": {
   "codemirror_mode": {
    "name": "ipython",
    "version": 3
   },
   "file_extension": ".py",
   "mimetype": "text/x-python",
   "name": "python",
   "nbconvert_exporter": "python",
   "pygments_lexer": "ipython3",
   "version": "3.9.7"
  }
 },
 "nbformat": 4,
 "nbformat_minor": 5
}
